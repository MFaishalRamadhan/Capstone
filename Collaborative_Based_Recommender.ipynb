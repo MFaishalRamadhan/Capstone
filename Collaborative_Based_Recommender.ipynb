{
  "nbformat": 4,
  "nbformat_minor": 0,
  "metadata": {
    "colab": {
      "provenance": [],
      "include_colab_link": true
    },
    "kernelspec": {
      "name": "python3",
      "display_name": "Python 3"
    },
    "language_info": {
      "name": "python"
    }
  },
  "cells": [
    {
      "cell_type": "markdown",
      "metadata": {
        "id": "view-in-github",
        "colab_type": "text"
      },
      "source": [
        "<a href=\"https://colab.research.google.com/github/MFaishalRamadhan/Capstone/blob/main/Collaborative_Based_Recommender.ipynb\" target=\"_parent\"><img src=\"https://colab.research.google.com/assets/colab-badge.svg\" alt=\"Open In Colab\"/></a>"
      ]
    },
    {
      "cell_type": "code",
      "execution_count": null,
      "metadata": {
        "id": "mVP7tidSe4PE"
      },
      "outputs": [],
      "source": [
        "# data\n",
        "import pandas as pd\n",
        "import numpy as np\n",
        "from zipfile import ZipFile\n",
        "from pathlib import Path\n",
        "import math\n",
        "import random\n",
        "\n",
        "# visualisation data\n",
        "import seaborn as sns\n",
        "import matplotlib.pyplot as plt\n",
        "\n",
        "%matplotlib inline\n",
        "sns.set_palette('Set1')\n",
        "sns.set()\n",
        "\n",
        "# modeling\n",
        "import tensorflow as tf\n",
        "from tensorflow import keras\n",
        "from tensorflow.keras import layers\n",
        "from tensorflow.keras.metrics import RootMeanSquaredError\n",
        "import pandas as pd\n",
        "import numpy as np\n",
        "from sklearn.model_selection import train_test_split\n",
        "from sklearn.preprocessing import LabelEncoder\n",
        "from tensorflow.keras.models import Model\n",
        "from tensorflow.keras.layers import Input, Embedding, Flatten, Dense, Concatenate\n",
        "import joblib\n",
        "from tensorflow.keras import regularizers\n",
        "\n",
        "# remove warnings for plotting seaborn\n",
        "import warnings\n",
        "warnings.filterwarnings('ignore')\n",
        "\n",
        "# for upload file\n",
        "import os"
      ]
    },
    {
      "cell_type": "code",
      "source": [
        "from google.colab import drive\n",
        "drive.mount(\"/content/gdrive\")\n",
        "users_dataset = pd.read_excel(r'/content/gdrive/My Drive/Colab Notebooks/Dataset/Users_Dataset.xlsx')"
      ],
      "metadata": {
        "colab": {
          "base_uri": "https://localhost:8080/"
        },
        "id": "pPtBWNUie42E",
        "outputId": "96254902-08b2-4352-b681-b1761d8fd753"
      },
      "execution_count": null,
      "outputs": [
        {
          "output_type": "stream",
          "name": "stdout",
          "text": [
            "Drive already mounted at /content/gdrive; to attempt to forcibly remount, call drive.mount(\"/content/gdrive\", force_remount=True).\n"
          ]
        }
      ]
    },
    {
      "cell_type": "code",
      "source": [
        "users_dataset"
      ],
      "metadata": {
        "colab": {
          "base_uri": "https://localhost:8080/",
          "height": 1000
        },
        "id": "-ubHPxu2hwJ_",
        "outputId": "b24f3627-eaf3-4fca-830e-f89cfd6283e6"
      },
      "execution_count": null,
      "outputs": [
        {
          "output_type": "execute_result",
          "data": {
            "text/plain": [
              "        User_ID  Place_ID  Rating_x                              Name  \\\n",
              "0             4       406         4                  Mr.K Cafe Gombel   \n",
              "1             6       406         3                  Mr.K Cafe Gombel   \n",
              "2            10       406         2                  Mr.K Cafe Gombel   \n",
              "3            12       406         3                  Mr.K Cafe Gombel   \n",
              "4            12       406         3                  Mr.K Cafe Gombel   \n",
              "...         ...       ...       ...                               ...   \n",
              "822816    16999       405         5  Jual Souvenir Semarang - Progift   \n",
              "822817    17093       405         1  Jual Souvenir Semarang - Progift   \n",
              "822818    17242       405         1  Jual Souvenir Semarang - Progift   \n",
              "822819    17407       405         2  Jual Souvenir Semarang - Progift   \n",
              "822820    17501       405         2  Jual Souvenir Semarang - Progift   \n",
              "\n",
              "                                                    Image  \\\n",
              "0       https://lh5.googleusercontent.com/p/AF1QipOh43...   \n",
              "1       https://lh5.googleusercontent.com/p/AF1QipOh43...   \n",
              "2       https://lh5.googleusercontent.com/p/AF1QipOh43...   \n",
              "3       https://lh5.googleusercontent.com/p/AF1QipOh43...   \n",
              "4       https://lh5.googleusercontent.com/p/AF1QipOh43...   \n",
              "...                                                   ...   \n",
              "822816  https://lh5.googleusercontent.com/p/AF1QipOday...   \n",
              "822817  https://lh5.googleusercontent.com/p/AF1QipOday...   \n",
              "822818  https://lh5.googleusercontent.com/p/AF1QipOday...   \n",
              "822819  https://lh5.googleusercontent.com/p/AF1QipOday...   \n",
              "822820  https://lh5.googleusercontent.com/p/AF1QipOday...   \n",
              "\n",
              "                                                      URL  Rating_y  \\\n",
              "0       https://www.google.co.id/maps/place/Mr.K+Cafe+...       4.5   \n",
              "1       https://www.google.co.id/maps/place/Mr.K+Cafe+...       4.5   \n",
              "2       https://www.google.co.id/maps/place/Mr.K+Cafe+...       4.5   \n",
              "3       https://www.google.co.id/maps/place/Mr.K+Cafe+...       4.5   \n",
              "4       https://www.google.co.id/maps/place/Mr.K+Cafe+...       4.5   \n",
              "...                                                   ...       ...   \n",
              "822816  https://www.google.com/maps/place/Jual+Souveni...       5.0   \n",
              "822817  https://www.google.com/maps/place/Jual+Souveni...       5.0   \n",
              "822818  https://www.google.com/maps/place/Jual+Souveni...       5.0   \n",
              "822819  https://www.google.com/maps/place/Jual+Souveni...       5.0   \n",
              "822820  https://www.google.com/maps/place/Jual+Souveni...       5.0   \n",
              "\n",
              "        Num_Rating      Category  \\\n",
              "0             6257          Kafe   \n",
              "1             6257          Kafe   \n",
              "2             6257          Kafe   \n",
              "3             6257          Kafe   \n",
              "4             6257          Kafe   \n",
              "...            ...           ...   \n",
              "822816          95  Toko Suvenir   \n",
              "822817          95  Toko Suvenir   \n",
              "822818          95  Toko Suvenir   \n",
              "822819          95  Toko Suvenir   \n",
              "822820          95  Toko Suvenir   \n",
              "\n",
              "                                                  Address   Longitude  \\\n",
              "0         Jl. Setia Budi No.28, Banyumanik, Kota Semarang  110.418685   \n",
              "1         Jl. Setia Budi No.28, Banyumanik, Kota Semarang  110.418685   \n",
              "2         Jl. Setia Budi No.28, Banyumanik, Kota Semarang  110.418685   \n",
              "3         Jl. Setia Budi No.28, Banyumanik, Kota Semarang  110.418685   \n",
              "4         Jl. Setia Budi No.28, Banyumanik, Kota Semarang  110.418685   \n",
              "...                                                   ...         ...   \n",
              "822816  Jalan Selo Mas Timur IX no 437, Tugu, Kota Sem...  110.401493   \n",
              "822817  Jalan Selo Mas Timur IX no 437, Tugu, Kota Sem...  110.401493   \n",
              "822818  Jalan Selo Mas Timur IX no 437, Tugu, Kota Sem...  110.401493   \n",
              "822819  Jalan Selo Mas Timur IX no 437, Tugu, Kota Sem...  110.401493   \n",
              "822820  Jalan Selo Mas Timur IX no 437, Tugu, Kota Sem...  110.401493   \n",
              "\n",
              "        Latitude  \n",
              "0      -7.038795  \n",
              "1      -7.038795  \n",
              "2      -7.038795  \n",
              "3      -7.038795  \n",
              "4      -7.038795  \n",
              "...          ...  \n",
              "822816 -6.959994  \n",
              "822817 -6.959994  \n",
              "822818 -6.959994  \n",
              "822819 -6.959994  \n",
              "822820 -6.959994  \n",
              "\n",
              "[822821 rows x 12 columns]"
            ],
            "text/html": [
              "\n",
              "  <div id=\"df-e3fbd142-ab60-49ad-8dfd-00b435c63de7\">\n",
              "    <div class=\"colab-df-container\">\n",
              "      <div>\n",
              "<style scoped>\n",
              "    .dataframe tbody tr th:only-of-type {\n",
              "        vertical-align: middle;\n",
              "    }\n",
              "\n",
              "    .dataframe tbody tr th {\n",
              "        vertical-align: top;\n",
              "    }\n",
              "\n",
              "    .dataframe thead th {\n",
              "        text-align: right;\n",
              "    }\n",
              "</style>\n",
              "<table border=\"1\" class=\"dataframe\">\n",
              "  <thead>\n",
              "    <tr style=\"text-align: right;\">\n",
              "      <th></th>\n",
              "      <th>User_ID</th>\n",
              "      <th>Place_ID</th>\n",
              "      <th>Rating_x</th>\n",
              "      <th>Name</th>\n",
              "      <th>Image</th>\n",
              "      <th>URL</th>\n",
              "      <th>Rating_y</th>\n",
              "      <th>Num_Rating</th>\n",
              "      <th>Category</th>\n",
              "      <th>Address</th>\n",
              "      <th>Longitude</th>\n",
              "      <th>Latitude</th>\n",
              "    </tr>\n",
              "  </thead>\n",
              "  <tbody>\n",
              "    <tr>\n",
              "      <th>0</th>\n",
              "      <td>4</td>\n",
              "      <td>406</td>\n",
              "      <td>4</td>\n",
              "      <td>Mr.K Cafe Gombel</td>\n",
              "      <td>https://lh5.googleusercontent.com/p/AF1QipOh43...</td>\n",
              "      <td>https://www.google.co.id/maps/place/Mr.K+Cafe+...</td>\n",
              "      <td>4.5</td>\n",
              "      <td>6257</td>\n",
              "      <td>Kafe</td>\n",
              "      <td>Jl. Setia Budi No.28, Banyumanik, Kota Semarang</td>\n",
              "      <td>110.418685</td>\n",
              "      <td>-7.038795</td>\n",
              "    </tr>\n",
              "    <tr>\n",
              "      <th>1</th>\n",
              "      <td>6</td>\n",
              "      <td>406</td>\n",
              "      <td>3</td>\n",
              "      <td>Mr.K Cafe Gombel</td>\n",
              "      <td>https://lh5.googleusercontent.com/p/AF1QipOh43...</td>\n",
              "      <td>https://www.google.co.id/maps/place/Mr.K+Cafe+...</td>\n",
              "      <td>4.5</td>\n",
              "      <td>6257</td>\n",
              "      <td>Kafe</td>\n",
              "      <td>Jl. Setia Budi No.28, Banyumanik, Kota Semarang</td>\n",
              "      <td>110.418685</td>\n",
              "      <td>-7.038795</td>\n",
              "    </tr>\n",
              "    <tr>\n",
              "      <th>2</th>\n",
              "      <td>10</td>\n",
              "      <td>406</td>\n",
              "      <td>2</td>\n",
              "      <td>Mr.K Cafe Gombel</td>\n",
              "      <td>https://lh5.googleusercontent.com/p/AF1QipOh43...</td>\n",
              "      <td>https://www.google.co.id/maps/place/Mr.K+Cafe+...</td>\n",
              "      <td>4.5</td>\n",
              "      <td>6257</td>\n",
              "      <td>Kafe</td>\n",
              "      <td>Jl. Setia Budi No.28, Banyumanik, Kota Semarang</td>\n",
              "      <td>110.418685</td>\n",
              "      <td>-7.038795</td>\n",
              "    </tr>\n",
              "    <tr>\n",
              "      <th>3</th>\n",
              "      <td>12</td>\n",
              "      <td>406</td>\n",
              "      <td>3</td>\n",
              "      <td>Mr.K Cafe Gombel</td>\n",
              "      <td>https://lh5.googleusercontent.com/p/AF1QipOh43...</td>\n",
              "      <td>https://www.google.co.id/maps/place/Mr.K+Cafe+...</td>\n",
              "      <td>4.5</td>\n",
              "      <td>6257</td>\n",
              "      <td>Kafe</td>\n",
              "      <td>Jl. Setia Budi No.28, Banyumanik, Kota Semarang</td>\n",
              "      <td>110.418685</td>\n",
              "      <td>-7.038795</td>\n",
              "    </tr>\n",
              "    <tr>\n",
              "      <th>4</th>\n",
              "      <td>12</td>\n",
              "      <td>406</td>\n",
              "      <td>3</td>\n",
              "      <td>Mr.K Cafe Gombel</td>\n",
              "      <td>https://lh5.googleusercontent.com/p/AF1QipOh43...</td>\n",
              "      <td>https://www.google.co.id/maps/place/Mr.K+Cafe+...</td>\n",
              "      <td>4.5</td>\n",
              "      <td>6257</td>\n",
              "      <td>Kafe</td>\n",
              "      <td>Jl. Setia Budi No.28, Banyumanik, Kota Semarang</td>\n",
              "      <td>110.418685</td>\n",
              "      <td>-7.038795</td>\n",
              "    </tr>\n",
              "    <tr>\n",
              "      <th>...</th>\n",
              "      <td>...</td>\n",
              "      <td>...</td>\n",
              "      <td>...</td>\n",
              "      <td>...</td>\n",
              "      <td>...</td>\n",
              "      <td>...</td>\n",
              "      <td>...</td>\n",
              "      <td>...</td>\n",
              "      <td>...</td>\n",
              "      <td>...</td>\n",
              "      <td>...</td>\n",
              "      <td>...</td>\n",
              "    </tr>\n",
              "    <tr>\n",
              "      <th>822816</th>\n",
              "      <td>16999</td>\n",
              "      <td>405</td>\n",
              "      <td>5</td>\n",
              "      <td>Jual Souvenir Semarang - Progift</td>\n",
              "      <td>https://lh5.googleusercontent.com/p/AF1QipOday...</td>\n",
              "      <td>https://www.google.com/maps/place/Jual+Souveni...</td>\n",
              "      <td>5.0</td>\n",
              "      <td>95</td>\n",
              "      <td>Toko Suvenir</td>\n",
              "      <td>Jalan Selo Mas Timur IX no 437, Tugu, Kota Sem...</td>\n",
              "      <td>110.401493</td>\n",
              "      <td>-6.959994</td>\n",
              "    </tr>\n",
              "    <tr>\n",
              "      <th>822817</th>\n",
              "      <td>17093</td>\n",
              "      <td>405</td>\n",
              "      <td>1</td>\n",
              "      <td>Jual Souvenir Semarang - Progift</td>\n",
              "      <td>https://lh5.googleusercontent.com/p/AF1QipOday...</td>\n",
              "      <td>https://www.google.com/maps/place/Jual+Souveni...</td>\n",
              "      <td>5.0</td>\n",
              "      <td>95</td>\n",
              "      <td>Toko Suvenir</td>\n",
              "      <td>Jalan Selo Mas Timur IX no 437, Tugu, Kota Sem...</td>\n",
              "      <td>110.401493</td>\n",
              "      <td>-6.959994</td>\n",
              "    </tr>\n",
              "    <tr>\n",
              "      <th>822818</th>\n",
              "      <td>17242</td>\n",
              "      <td>405</td>\n",
              "      <td>1</td>\n",
              "      <td>Jual Souvenir Semarang - Progift</td>\n",
              "      <td>https://lh5.googleusercontent.com/p/AF1QipOday...</td>\n",
              "      <td>https://www.google.com/maps/place/Jual+Souveni...</td>\n",
              "      <td>5.0</td>\n",
              "      <td>95</td>\n",
              "      <td>Toko Suvenir</td>\n",
              "      <td>Jalan Selo Mas Timur IX no 437, Tugu, Kota Sem...</td>\n",
              "      <td>110.401493</td>\n",
              "      <td>-6.959994</td>\n",
              "    </tr>\n",
              "    <tr>\n",
              "      <th>822819</th>\n",
              "      <td>17407</td>\n",
              "      <td>405</td>\n",
              "      <td>2</td>\n",
              "      <td>Jual Souvenir Semarang - Progift</td>\n",
              "      <td>https://lh5.googleusercontent.com/p/AF1QipOday...</td>\n",
              "      <td>https://www.google.com/maps/place/Jual+Souveni...</td>\n",
              "      <td>5.0</td>\n",
              "      <td>95</td>\n",
              "      <td>Toko Suvenir</td>\n",
              "      <td>Jalan Selo Mas Timur IX no 437, Tugu, Kota Sem...</td>\n",
              "      <td>110.401493</td>\n",
              "      <td>-6.959994</td>\n",
              "    </tr>\n",
              "    <tr>\n",
              "      <th>822820</th>\n",
              "      <td>17501</td>\n",
              "      <td>405</td>\n",
              "      <td>2</td>\n",
              "      <td>Jual Souvenir Semarang - Progift</td>\n",
              "      <td>https://lh5.googleusercontent.com/p/AF1QipOday...</td>\n",
              "      <td>https://www.google.com/maps/place/Jual+Souveni...</td>\n",
              "      <td>5.0</td>\n",
              "      <td>95</td>\n",
              "      <td>Toko Suvenir</td>\n",
              "      <td>Jalan Selo Mas Timur IX no 437, Tugu, Kota Sem...</td>\n",
              "      <td>110.401493</td>\n",
              "      <td>-6.959994</td>\n",
              "    </tr>\n",
              "  </tbody>\n",
              "</table>\n",
              "<p>822821 rows × 12 columns</p>\n",
              "</div>\n",
              "      <button class=\"colab-df-convert\" onclick=\"convertToInteractive('df-e3fbd142-ab60-49ad-8dfd-00b435c63de7')\"\n",
              "              title=\"Convert this dataframe to an interactive table.\"\n",
              "              style=\"display:none;\">\n",
              "        \n",
              "  <svg xmlns=\"http://www.w3.org/2000/svg\" height=\"24px\"viewBox=\"0 0 24 24\"\n",
              "       width=\"24px\">\n",
              "    <path d=\"M0 0h24v24H0V0z\" fill=\"none\"/>\n",
              "    <path d=\"M18.56 5.44l.94 2.06.94-2.06 2.06-.94-2.06-.94-.94-2.06-.94 2.06-2.06.94zm-11 1L8.5 8.5l.94-2.06 2.06-.94-2.06-.94L8.5 2.5l-.94 2.06-2.06.94zm10 10l.94 2.06.94-2.06 2.06-.94-2.06-.94-.94-2.06-.94 2.06-2.06.94z\"/><path d=\"M17.41 7.96l-1.37-1.37c-.4-.4-.92-.59-1.43-.59-.52 0-1.04.2-1.43.59L10.3 9.45l-7.72 7.72c-.78.78-.78 2.05 0 2.83L4 21.41c.39.39.9.59 1.41.59.51 0 1.02-.2 1.41-.59l7.78-7.78 2.81-2.81c.8-.78.8-2.07 0-2.86zM5.41 20L4 18.59l7.72-7.72 1.47 1.35L5.41 20z\"/>\n",
              "  </svg>\n",
              "      </button>\n",
              "      \n",
              "  <style>\n",
              "    .colab-df-container {\n",
              "      display:flex;\n",
              "      flex-wrap:wrap;\n",
              "      gap: 12px;\n",
              "    }\n",
              "\n",
              "    .colab-df-convert {\n",
              "      background-color: #E8F0FE;\n",
              "      border: none;\n",
              "      border-radius: 50%;\n",
              "      cursor: pointer;\n",
              "      display: none;\n",
              "      fill: #1967D2;\n",
              "      height: 32px;\n",
              "      padding: 0 0 0 0;\n",
              "      width: 32px;\n",
              "    }\n",
              "\n",
              "    .colab-df-convert:hover {\n",
              "      background-color: #E2EBFA;\n",
              "      box-shadow: 0px 1px 2px rgba(60, 64, 67, 0.3), 0px 1px 3px 1px rgba(60, 64, 67, 0.15);\n",
              "      fill: #174EA6;\n",
              "    }\n",
              "\n",
              "    [theme=dark] .colab-df-convert {\n",
              "      background-color: #3B4455;\n",
              "      fill: #D2E3FC;\n",
              "    }\n",
              "\n",
              "    [theme=dark] .colab-df-convert:hover {\n",
              "      background-color: #434B5C;\n",
              "      box-shadow: 0px 1px 3px 1px rgba(0, 0, 0, 0.15);\n",
              "      filter: drop-shadow(0px 1px 2px rgba(0, 0, 0, 0.3));\n",
              "      fill: #FFFFFF;\n",
              "    }\n",
              "  </style>\n",
              "\n",
              "      <script>\n",
              "        const buttonEl =\n",
              "          document.querySelector('#df-e3fbd142-ab60-49ad-8dfd-00b435c63de7 button.colab-df-convert');\n",
              "        buttonEl.style.display =\n",
              "          google.colab.kernel.accessAllowed ? 'block' : 'none';\n",
              "\n",
              "        async function convertToInteractive(key) {\n",
              "          const element = document.querySelector('#df-e3fbd142-ab60-49ad-8dfd-00b435c63de7');\n",
              "          const dataTable =\n",
              "            await google.colab.kernel.invokeFunction('convertToInteractive',\n",
              "                                                     [key], {});\n",
              "          if (!dataTable) return;\n",
              "\n",
              "          const docLinkHtml = 'Like what you see? Visit the ' +\n",
              "            '<a target=\"_blank\" href=https://colab.research.google.com/notebooks/data_table.ipynb>data table notebook</a>'\n",
              "            + ' to learn more about interactive tables.';\n",
              "          element.innerHTML = '';\n",
              "          dataTable['output_type'] = 'display_data';\n",
              "          await google.colab.output.renderOutput(dataTable, element);\n",
              "          const docLink = document.createElement('div');\n",
              "          docLink.innerHTML = docLinkHtml;\n",
              "          element.appendChild(docLink);\n",
              "        }\n",
              "      </script>\n",
              "    </div>\n",
              "  </div>\n",
              "  "
            ]
          },
          "metadata": {},
          "execution_count": 3
        }
      ]
    },
    {
      "cell_type": "code",
      "source": [
        "# Encode categorical variables\n",
        "user_encoder = LabelEncoder()\n",
        "place_encoder = LabelEncoder()"
      ],
      "metadata": {
        "id": "L9rirXZAhk3_"
      },
      "execution_count": null,
      "outputs": []
    },
    {
      "cell_type": "code",
      "source": [
        "users_dataset['user_encoded'] = user_encoder.fit_transform(users_dataset['User_ID'])\n",
        "users_dataset['place_encoded'] = place_encoder.fit_transform(users_dataset['Place_ID'])"
      ],
      "metadata": {
        "id": "0jgFXqD9hol_"
      },
      "execution_count": null,
      "outputs": []
    },
    {
      "cell_type": "code",
      "source": [
        "train_df, test_df = train_test_split(users_dataset, test_size=0.2, random_state=42)"
      ],
      "metadata": {
        "id": "m813o1aShzIh"
      },
      "execution_count": null,
      "outputs": []
    },
    {
      "cell_type": "code",
      "source": [
        "# Define input layers\n",
        "user_input = Input(shape=(1,))\n",
        "place_input = Input(shape=(1,))\n",
        "\n",
        "# Flatten the inputs\n",
        "user_flatten = Flatten()(user_input)\n",
        "place_flatten = Flatten()(place_input)\n",
        "\n",
        "# Concatenate the inputs\n",
        "concatenated = Concatenate()([user_flatten, place_flatten])\n",
        "\n",
        "# Define hidden layers with regularization\n",
        "hidden1 = Dense(64, activation='relu', kernel_regularizer=regularizers.l2(0.01))(concatenated)\n",
        "hidden2 = Dense(32, activation='relu', kernel_regularizer=regularizers.l2(0.01))(hidden1)\n",
        "\n",
        "# Output layer\n",
        "output = Dense(1)(hidden2)"
      ],
      "metadata": {
        "id": "bVyJcTa9h2uW"
      },
      "execution_count": null,
      "outputs": []
    },
    {
      "cell_type": "code",
      "source": [
        "model = Model(inputs=[user_input, place_input], outputs=output)\n",
        "\n",
        "# Compile the model\n",
        "model.compile(loss='mean_squared_error', optimizer='adam', metrics=['accuracy'])"
      ],
      "metadata": {
        "id": "cEr88aQnh-at"
      },
      "execution_count": null,
      "outputs": []
    },
    {
      "cell_type": "code",
      "source": [
        "X_train = [train_df['user_encoded'], train_df['place_encoded']]\n",
        "y_train = train_df['Rating_x']\n",
        "# Prepare the test data\n",
        "X_test = [test_df['user_encoded'], test_df['place_encoded']]\n",
        "y_test = test_df['Rating_x']\n",
        "\n",
        "# Train the model with validation data\n",
        "history = model.fit(X_train, y_train, validation_data=(X_test, y_test), epochs=30, batch_size=512)"
      ],
      "metadata": {
        "colab": {
          "base_uri": "https://localhost:8080/"
        },
        "id": "VeYAJwN0IR-8",
        "outputId": "bc4404d3-59d5-4ecd-f7ac-93fb81bd5278"
      },
      "execution_count": null,
      "outputs": [
        {
          "output_type": "stream",
          "name": "stdout",
          "text": [
            "Epoch 1/30\n",
            "1286/1286 [==============================] - 7s 3ms/step - loss: 994.1785 - accuracy: 0.1801 - val_loss: 3.5860 - val_accuracy: 0.1967\n",
            "Epoch 2/30\n",
            "1286/1286 [==============================] - 4s 3ms/step - loss: 4.2383 - accuracy: 0.1973 - val_loss: 28.3733 - val_accuracy: 0.1974\n",
            "Epoch 3/30\n",
            "1286/1286 [==============================] - 5s 4ms/step - loss: 78.4225 - accuracy: 0.1602 - val_loss: 40.4093 - val_accuracy: 0.0277\n",
            "Epoch 4/30\n",
            "1286/1286 [==============================] - 4s 3ms/step - loss: 77.2212 - accuracy: 0.1556 - val_loss: 80.2650 - val_accuracy: 0.0236\n",
            "Epoch 5/30\n",
            "1286/1286 [==============================] - 4s 3ms/step - loss: 65.5202 - accuracy: 0.1646 - val_loss: 11.8387 - val_accuracy: 0.1974\n",
            "Epoch 6/30\n",
            "1286/1286 [==============================] - 4s 3ms/step - loss: 63.7284 - accuracy: 0.1735 - val_loss: 5.6904 - val_accuracy: 0.1974\n",
            "Epoch 7/30\n",
            "1286/1286 [==============================] - 5s 4ms/step - loss: 59.2550 - accuracy: 0.1665 - val_loss: 47.4187 - val_accuracy: 0.1974\n",
            "Epoch 8/30\n",
            "1286/1286 [==============================] - 4s 3ms/step - loss: 58.4557 - accuracy: 0.1595 - val_loss: 66.5287 - val_accuracy: 0.1974\n",
            "Epoch 9/30\n",
            "1286/1286 [==============================] - 4s 3ms/step - loss: 41.0522 - accuracy: 0.1690 - val_loss: 9.2870 - val_accuracy: 0.1024\n",
            "Epoch 10/30\n",
            "1286/1286 [==============================] - 5s 4ms/step - loss: 48.1395 - accuracy: 0.1629 - val_loss: 6.2161 - val_accuracy: 0.1974\n",
            "Epoch 11/30\n",
            "1286/1286 [==============================] - 4s 3ms/step - loss: 40.9231 - accuracy: 0.1749 - val_loss: 14.3145 - val_accuracy: 0.0771\n",
            "Epoch 12/30\n",
            "1286/1286 [==============================] - 4s 3ms/step - loss: 41.7850 - accuracy: 0.1568 - val_loss: 2.8592 - val_accuracy: 0.1974\n",
            "Epoch 13/30\n",
            "1286/1286 [==============================] - 6s 5ms/step - loss: 48.8268 - accuracy: 0.1711 - val_loss: 2.6989 - val_accuracy: 0.1974\n",
            "Epoch 14/30\n",
            "1286/1286 [==============================] - 4s 3ms/step - loss: 25.2289 - accuracy: 0.1731 - val_loss: 20.6651 - val_accuracy: 0.1974\n",
            "Epoch 15/30\n",
            "1286/1286 [==============================] - 4s 3ms/step - loss: 36.1022 - accuracy: 0.1760 - val_loss: 3.7097 - val_accuracy: 0.1974\n",
            "Epoch 16/30\n",
            "1286/1286 [==============================] - 6s 4ms/step - loss: 37.4977 - accuracy: 0.1741 - val_loss: 3.9248 - val_accuracy: 0.1974\n",
            "Epoch 17/30\n",
            "1286/1286 [==============================] - 4s 3ms/step - loss: 22.8212 - accuracy: 0.1673 - val_loss: 4.1847 - val_accuracy: 0.1974\n",
            "Epoch 18/30\n",
            "1286/1286 [==============================] - 4s 3ms/step - loss: 26.7987 - accuracy: 0.1665 - val_loss: 4.2356 - val_accuracy: 0.1974\n",
            "Epoch 19/30\n",
            "1286/1286 [==============================] - 11s 9ms/step - loss: 25.0485 - accuracy: 0.1700 - val_loss: 5.9186 - val_accuracy: 0.1974\n",
            "Epoch 20/30\n",
            "1286/1286 [==============================] - 9s 7ms/step - loss: 37.1235 - accuracy: 0.1814 - val_loss: 2.2340 - val_accuracy: 0.1974\n",
            "Epoch 21/30\n",
            "1286/1286 [==============================] - 4s 3ms/step - loss: 17.4017 - accuracy: 0.1754 - val_loss: 2.5309 - val_accuracy: 0.1974\n",
            "Epoch 22/30\n",
            "1286/1286 [==============================] - 7s 5ms/step - loss: 15.5596 - accuracy: 0.1734 - val_loss: 2.5387 - val_accuracy: 0.1974\n",
            "Epoch 23/30\n",
            "1286/1286 [==============================] - 7s 6ms/step - loss: 18.5860 - accuracy: 0.1796 - val_loss: 2.9729 - val_accuracy: 0.1974\n",
            "Epoch 24/30\n",
            "1286/1286 [==============================] - 9s 7ms/step - loss: 17.4428 - accuracy: 0.1778 - val_loss: 19.5366 - val_accuracy: 0.0664\n",
            "Epoch 25/30\n",
            "1286/1286 [==============================] - 4s 3ms/step - loss: 16.1036 - accuracy: 0.1719 - val_loss: 26.3112 - val_accuracy: 0.0554\n",
            "Epoch 26/30\n",
            "1286/1286 [==============================] - 4s 3ms/step - loss: 15.6407 - accuracy: 0.1740 - val_loss: 2.4623 - val_accuracy: 0.1974\n",
            "Epoch 27/30\n",
            "1286/1286 [==============================] - 5s 4ms/step - loss: 14.9283 - accuracy: 0.1807 - val_loss: 6.0279 - val_accuracy: 0.1443\n",
            "Epoch 28/30\n",
            "1286/1286 [==============================] - 4s 3ms/step - loss: 13.9338 - accuracy: 0.1721 - val_loss: 18.7569 - val_accuracy: 0.1974\n",
            "Epoch 29/30\n",
            "1286/1286 [==============================] - 4s 3ms/step - loss: 10.9892 - accuracy: 0.1788 - val_loss: 26.7933 - val_accuracy: 0.1974\n",
            "Epoch 30/30\n",
            "1286/1286 [==============================] - 5s 4ms/step - loss: 11.7427 - accuracy: 0.1797 - val_loss: 43.3125 - val_accuracy: 0.1974\n"
          ]
        }
      ]
    },
    {
      "cell_type": "code",
      "source": [
        "# take accuracy and validation from history\n",
        "accuracy = history.history['accuracy']\n",
        "val_accuracy = history.history['val_accuracy']\n",
        "loss = history.history['loss']\n",
        "val_loss = history.history['val_loss']\n",
        "\n",
        "# accuracy plot\n",
        "plt.figure(figsize=(8, 4))\n",
        "plt.plot(accuracy, label='Train Accuracy')\n",
        "plt.plot(val_accuracy, label='Validation Accuracy')\n",
        "plt.title('Model Accuracy')\n",
        "plt.xlabel('Epoch')\n",
        "plt.ylabel('Accuracy')\n",
        "plt.legend()\n",
        "plt.show()"
      ],
      "metadata": {
        "colab": {
          "base_uri": "https://localhost:8080/",
          "height": 419
        },
        "id": "R4Xll8ukkpV8",
        "outputId": "91d15c94-a915-4a74-d9af-9987605b0f1d"
      },
      "execution_count": null,
      "outputs": [
        {
          "output_type": "display_data",
          "data": {
            "text/plain": [
              "<Figure size 800x400 with 1 Axes>"
            ],
            "image/png": "[encoded data removed]"
          },
          "metadata": {}
        }
      ]
    },
    {
      "cell_type": "code",
      "source": [
        "# loss plot\n",
        "plt.figure(figsize=(8, 4))\n",
        "plt.plot(loss, label='Train Loss')\n",
        "plt.plot(val_loss, label='Validation Loss')\n",
        "plt.title('Model Loss')\n",
        "plt.xlabel('Epoch')\n",
        "plt.ylabel('Loss')\n",
        "plt.legend()\n",
        "plt.show()"
      ],
      "metadata": {
        "colab": {
          "base_uri": "https://localhost:8080/",
          "height": 419
        },
        "id": "R2KovTytmfTr",
        "outputId": "49bd797f-6db8-4d26-b86c-6658cf1040fc"
      },
      "execution_count": null,
      "outputs": [
        {
          "output_type": "display_data",
          "data": {
            "text/plain": [
              "<Figure size 800x400 with 1 Axes>"
            ],
            "image/png": "[encoded data removed]"
          },
          "metadata": {}
        }
      ]
    },
    {
      "cell_type": "code",
      "source": [
        "def calculate_distance(location1, location2):\n",
        "    lat1, lon1 = location1\n",
        "    lat2, lon2 = location2\n",
        "    # Calculate the distance using the Haversine formula\n",
        "    dlat = math.radians(lat2 - lat1)\n",
        "    dlon = math.radians(lon2 - lon1)\n",
        "    a = math.sin(dlat / 2) ** 2 + math.cos(math.radians(lat1)) * math.cos(math.radians(lat2)) * math.sin(dlon / 2) ** 2\n",
        "    c = 2 * math.atan2(math.sqrt(a), math.sqrt(1 - a))\n",
        "    distance = 6371 * c  # Earth's radius is approximately 6371 km\n",
        "\n",
        "    return distance"
      ],
      "metadata": {
        "id": "m_4NhXPoWgmC"
      },
      "execution_count": null,
      "outputs": []
    },
    {
      "cell_type": "code",
      "source": [
        "def get_recommendations():\n",
        "    # Get the JSON data from the request\n",
        "    user_latitude = -6.898647901908838\n",
        "    user_longitude = 110.40228767871858\n",
        "    user_location = (user_latitude, user_longitude)\n",
        "\n",
        "    # Get all unique places\n",
        "    unique_places = users_dataset['Place_ID'].unique()\n",
        "\n",
        "    # Encode the categorical variables\n",
        "    user_encoder = LabelEncoder()\n",
        "    place_encoder = LabelEncoder()\n",
        "    users_dataset['user_encoded'] = user_encoder.fit_transform(users_dataset['User_ID'])\n",
        "    users_dataset['place_encoded'] = place_encoder.fit_transform(users_dataset['Place_ID'])\n",
        "\n",
        "    # Generate a random user ID\n",
        "    user_id = random.choice(users_dataset['User_ID'].unique())\n",
        "\n",
        "    # Get recommendations for the specific user\n",
        "    user_id_encoded = user_encoder.transform([user_id])[0]\n",
        "    user_input = np.full(len(unique_places), user_id_encoded)\n",
        "    place_input = np.arange(len(unique_places))\n",
        "\n",
        "    # Predict ratings for the user and sort them in descending order\n",
        "    predictions = model.predict([user_input, place_input]).flatten()\n",
        "    sorted_indices = np.argsort(predictions)[::-1]\n",
        "\n",
        "    # Get the top 5 recommendations\n",
        "    top_5_collaborative_places = unique_places[sorted_indices[:5]]\n",
        "\n",
        "    # Get the recommended places' details\n",
        "    collaborative_recommendations = users_dataset[users_dataset['Place_ID'].isin(top_5_collaborative_places)][\n",
        "        ['Place_ID', 'Name', 'Rating_y', 'Num_Rating', 'Latitude', 'Longitude',\n",
        "         'Category', 'Address', 'Image', 'URL']]. \\\n",
        "        sort_values('Rating_y', ascending=False)\n",
        "\n",
        "    # Calculate and add the distance for each recommended place\n",
        "    collaborative_recommendations['distance'] = collaborative_recommendations.apply(\n",
        "        lambda row: calculate_distance(user_location, (row['Latitude'], row['Longitude'])), axis=1)\n",
        "    collaborative_recommendations['distance'] = collaborative_recommendations['distance'].apply(lambda d: f\"{round(d, 2)} km\")\n",
        "\n",
        "    # Filter out any duplicate places\n",
        "    collaborative_recommendations = collaborative_recommendations.drop_duplicates(subset=['Name'])\n",
        "\n",
        "    # Create a list of recommended place dictionaries\n",
        "    collaborative_recommended = []\n",
        "    for _, row in collaborative_recommendations.iterrows():\n",
        "        distance_str = row['distance'].split(' ')[0]\n",
        "        distance = float(distance_str)\n",
        "        place = {\n",
        "            'place_id': row['Place_ID'],  # Add the place ID to the result\n",
        "            'name': row['Name'],\n",
        "            'rating': row['Rating_y'],\n",
        "            'num_ratings': row['Num_Rating'],\n",
        "            'category': row['Category'],\n",
        "            'address': row['Address'],\n",
        "            'image': row['Image'],\n",
        "            'url': row['URL'],\n",
        "            'distance': f\"{round(distance, 2)} km\"\n",
        "        }\n",
        "        collaborative_recommended.append(place)\n",
        "    # Return the list of recommended places\n",
        "    return collaborative_recommended"
      ],
      "metadata": {
        "id": "m1Zn39f6WRr7"
      },
      "execution_count": null,
      "outputs": []
    },
    {
      "cell_type": "code",
      "source": [
        "recommended_places = get_recommendations()\n",
        "\n",
        "for place in recommended_places:\n",
        "    print(\"Place ID:\", place['place_id'])\n",
        "    print(\"Name:\", place['name'])\n",
        "    print(\"Rating:\", place['rating'])\n",
        "    print(\"Num_Rating:\", place['num_ratings'])\n",
        "    print(\"Category:\", place['category'])\n",
        "    print(\"Address:\", place['address'])\n",
        "    print(\"Distance:\", place['distance'])\n",
        "    print(\"Image:\", place['image'])\n",
        "    print(\"URL:\", place['url'])\n",
        "    print()"
      ],
      "metadata": {
        "colab": {
          "base_uri": "https://localhost:8080/"
        },
        "id": "M9F1tK0Wlsug",
        "outputId": "681b1ad9-65a7-4b88-c876-aa8aa7bf934a"
      },
      "execution_count": null,
      "outputs": [
        {
          "output_type": "stream",
          "name": "stdout",
          "text": [
            "18/18 [==============================] - 0s 1ms/step\n",
            "Place ID: 405\n",
            "Name: Jual Souvenir Semarang - Progift\n",
            "Rating: 5.0\n",
            "Num_Rating: 95\n",
            "Category: Toko Suvenir\n",
            "Address: Jalan Selo Mas Timur IX no 437, Tugu, Kota Semarang\n",
            "Distance: 6.82 km\n",
            "Image: https://lh5.googleusercontent.com/p/AF1QipOdayen4nD7cfTzT4t1OlHQQCcWCl1p2BrLVYme=w92-h92-k-no\n",
            "URL: https://www.google.com/maps/place/Jual+Souvenir+Semarang+-+Progift/data=!4m7!3m6!1s0x2e708b6cf74cf005:0x4758f799490d8cd0!8m2!3d-6.9599944!4d110.4040678!16s%2Fg%2F11gzrwb7ys!19sChIJBfBM92yLcC4R0IwNSZn3WEc?authuser=0&hl=id&rclk=1\n",
            "\n",
            "Place ID: 402\n",
            "Name: Toko Souvenir : Kraskress_craft\n",
            "Rating: 5.0\n",
            "Num_Rating: 1\n",
            "Category: Toko Suvenir\n",
            "Address: 283F+QWW, Jl. Bukit Beringin Tim. IV, Tugu, Kota Semarang\n",
            "Distance: 13.93 km\n",
            "Image: https://streetviewpixels-pa.googleapis.com/v1/thumbnail?panoid=W2oMupw_Wk7yMmPCfbwiVA&cb_client=search.gws-prod.gps&w=80&h=92&yaw=313.138&pitch=0&thumbfov=100\n",
            "URL: https://www.google.com/maps/place/Toko+Souvenir+:+Kraskress_craft/data=!4m7!3m6!1s0x2e70618243313a61:0xd3fa30afcbe06cc9!8m2!3d-6.9955139!4d110.3248357!16s%2Fg%2F11gmg5y2v8!19sChIJYToxQ4JhcC4RyWzgy68w-tM?authuser=0&hl=id&rclk=1\n",
            "\n",
            "Place ID: 403\n",
            "Name: CAHAYA BAGOES SOUVENIR\n",
            "Rating: 4.8\n",
            "Num_Rating: 6\n",
            "Category: Toko Suvenir\n",
            "Address: Jl. MGR. Sugiyopranoto, Pasar Bulu Lantai 1, Tugu Muda, Tugu, Kota Semarang\n",
            "Distance: 8.91 km\n",
            "Image: https://lh5.googleusercontent.com/p/AF1QipPumxsQwWqCKRLPFEUJrQTgo2ljTR2EhdLTJ7F0=w122-h92-k-no\n",
            "URL: https://www.google.com/maps/place/CAHAYA+BAGOES+SOUVENIR/data=!4m7!3m6!1s0x2e708b48cddd106b:0x2fc353fa7de997f6!8m2!3d-6.9841572!4d110.4080154!16s%2Fg%2F11cssngk1h!19sChIJaxDdzUiLcC4R9pfpffpTwy8?authuser=0&hl=id&rclk=1\n",
            "\n",
            "Place ID: 400\n",
            "Name: Civita Souvenir Tembalang\n",
            "Rating: 4.4\n",
            "Num_Rating: 9\n",
            "Category: Toko Suvenir\n",
            "Address: WFR7+P3X, Jl. Bukit Kencana Jaya, Tembalang, Kota Semarang\n",
            "Distance: 18.85 km\n",
            "Image: https://lh5.googleusercontent.com/p/AF1QipNDUE7yAGSPuYPCJKThCRNXZWm3FIdzHJkd0O0W=w163-h92-k-no\n",
            "URL: https://www.google.com/maps/place/Civita+Souvenir+Tembalang/data=!4m7!3m6!1s0x2e708fd6e74c01bb:0x7331475a358f4012!8m2!3d-7.0581298!4d110.4627234!16s%2Fg%2F11g0j5_q0r!19sChIJuwFM59aPcC4REkCPNVpHMXM?authuser=0&hl=id&rclk=1\n",
            "\n",
            "Place ID: 404\n",
            "Name: Dandelion Souvenir\n",
            "Rating: 3.0\n",
            "Num_Rating: 1\n",
            "Category: Toko Suvenir\n",
            "Address: Jl. Noroyono No.27, Tugu, Kota Semarang\n",
            "Distance: 8.71 km\n",
            "Image: https://streetviewpixels-pa.googleapis.com/v1/thumbnail?panoid=ahI4sBcLsYRLbi4Bjy9lHg&cb_client=search.gws-prod.gps&w=80&h=92&yaw=335.681&pitch=0&thumbfov=100\n",
            "URL: https://www.google.com/maps/place/Dandelion+Souvenir/data=!4m7!3m6!1s0x2e708b4aba31a08f:0xc3e24488b441fdb7!8m2!3d-6.9769886!4d110.4034351!16s%2Fg%2F1pzs1ztp3!19sChIJj6AxukqLcC4Rt_1BtIhE4sM?authuser=0&hl=id&rclk=1\n",
            "\n"
          ]
        }
      ]
    },
    {
      "cell_type": "code",
      "source": [
        "model.save('collaborative_model.h5')"
      ],
      "metadata": {
        "id": "WO2B75Mro9iW"
      },
      "execution_count": null,
      "outputs": []
    },
    {
      "cell_type": "code",
      "source": [
        "# Save the model using joblib\n",
        "joblib.dump(model, 'collaborative_model.pkl')"
      ],
      "metadata": {
        "colab": {
          "base_uri": "https://localhost:8080/"
        },
        "id": "myV38q8WA6Je",
        "outputId": "74f63aca-b7d4-4cfb-951d-db1d2ec3a67b"
      },
      "execution_count": null,
      "outputs": [
        {
          "output_type": "execute_result",
          "data": {
            "text/plain": [
              "['collaborative_model.pkl']"
            ]
          },
          "metadata": {},
          "execution_count": 18
        }
      ]
    },
    {
      "cell_type": "code",
      "source": [
        "# Save the model using joblib\n",
        "joblib.dump(model, 'collaborative_model.joblib')"
      ],
      "metadata": {
        "colab": {
          "base_uri": "https://localhost:8080/"
        },
        "id": "3x4wIJBCCVXX",
        "outputId": "4b816331-71b6-47b7-deb1-29d75fd90bdc"
      },
      "execution_count": null,
      "outputs": [
        {
          "output_type": "execute_result",
          "data": {
            "text/plain": [
              "['collaborative_model.joblib']"
            ]
          },
          "metadata": {},
          "execution_count": 19
        }
      ]
    },
    {
      "cell_type": "code",
      "source": [
        "import tensorflow as tf\n",
        "\n",
        "# Load the H5 model\n",
        "model = tf.keras.models.load_model('collaborative_model.h5')\n",
        "\n",
        "# Convert the model to TFLite format\n",
        "converter = tf.lite.TFLiteConverter.from_keras_model(model)\n",
        "tflite_model = converter.convert()\n",
        "\n",
        "# Save the TFLite model to a file\n",
        "with open('collaborative_model.tflite', 'wb') as f:\n",
        "    f.write(tflite_model)"
      ],
      "metadata": {
        "colab": {
          "base_uri": "https://localhost:8080/"
        },
        "id": "U7ZySgiHBnGF",
        "outputId": "4f502bb5-82c6-45df-82dd-e0a975be4545"
      },
      "execution_count": null,
      "outputs": [
        {
          "output_type": "stream",
          "name": "stderr",
          "text": [
            "WARNING:absl:Found untraced functions such as _update_step_xla while saving (showing 1 of 1). These functions will not be directly callable after loading.\n"
          ]
        }
      ]
    }
  ]
}